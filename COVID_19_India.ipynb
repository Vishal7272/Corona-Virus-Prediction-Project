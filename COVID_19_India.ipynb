{
  "nbformat": 4,
  "nbformat_minor": 0,
  "metadata": {
    "colab": {
      "name": "COVID_19_India",
      "provenance": [],
      "private_outputs": true,
      "collapsed_sections": [],
      "mount_file_id": "1V9SUmyWI9HgqMZDzhuCOtBpXngDoDaki",
      "authorship_tag": "ABX9TyNw/ZvTe7/r1V2QQCb/nKgd",
      "include_colab_link": true
    },
    "kernelspec": {
      "name": "python3",
      "display_name": "Python 3"
    },
    "accelerator": "GPU"
  },
  "cells": [
    {
      "cell_type": "markdown",
      "metadata": {
        "id": "view-in-github",
        "colab_type": "text"
      },
      "source": [
        "<a href=\"https://colab.research.google.com/github/Vishal7272/Corona-Virus-Prediction-Project/blob/master/COVID_19_India.ipynb\" target=\"_parent\"><img src=\"https://colab.research.google.com/assets/colab-badge.svg\" alt=\"Open In Colab\"/></a>"
      ]
    },
    {
      "cell_type": "code",
      "metadata": {
        "id": "F447QdRMwQos",
        "colab_type": "code",
        "colab": {}
      },
      "source": [
        "import pandas as pd\n",
        "import numpy as np\n",
        "import matplotlib.pyplot as plt\n",
        "%matplotlib inline\n",
        "import seaborn as sns\n",
        "import plotly.express as px\n",
        "import plotly.graph_objects as go\n",
        "import folium\n",
        "from folium import plugins\n",
        "import warnings\n",
        "from datetime import datetime\n",
        "import os\n",
        "import re\n",
        "import glob\n",
        "import requests\n",
        "from bs4 import BeautifulSoup\n",
        "\n",
        "#plt.rcParams['figure.figsize'] - 10 ,12\n",
        "warnings.filterwarnings('ignore')"
      ],
      "execution_count": 0,
      "outputs": []
    },
    {
      "cell_type": "code",
      "metadata": {
        "id": "PfJQOkgl2ZjF",
        "colab_type": "code",
        "colab": {}
      },
      "source": [
        "link='https://www.mohfw.gov.in/'\n",
        "req=requests.get(link)\n",
        "soup = BeautifulSoup(req.content,\"html.parser\")\n"
      ],
      "execution_count": 0,
      "outputs": []
    },
    {
      "cell_type": "code",
      "metadata": {
        "id": "eMDBN1vP743V",
        "colab_type": "code",
        "colab": {}
      },
      "source": [
        "thead=soup.find_all('thead')[-1]\n",
        "head=thead.find_all('tr')\n",
        "\n",
        "tbody=soup.find_all('tbody')[-1]\n",
        "body=tbody.find_all('tr')\n"
      ],
      "execution_count": 0,
      "outputs": []
    },
    {
      "cell_type": "code",
      "metadata": {
        "id": "DX2Opy6X9tg-",
        "colab_type": "code",
        "colab": {}
      },
      "source": [
        "head_row=[]\n",
        "body_row=[]\n",
        "\n",
        "for tr in head:\n",
        "  td=tr.find_all(['th','td'])\n",
        "  row=[i.text for i in td]\n",
        "  head_row.append(row)\n",
        "\n",
        "for tr in body:\n",
        "  td=tr.find_all(['th','td'])\n",
        "  row=[i.text for i in td]\n",
        "  body_row.append(row)\n",
        "  "
      ],
      "execution_count": 0,
      "outputs": []
    },
    {
      "cell_type": "code",
      "metadata": {
        "id": "MnE1DywM_fnL",
        "colab_type": "code",
        "colab": {}
      },
      "source": [
        "#save content in dataframe\n",
        "\n",
        "df_bs=pd.DataFrame(body_row[:len(body_row)-6], columns=head_row[0])\n",
        "\n",
        "df_bs.drop('S. No.',axis=1,inplace=True)\n",
        "#df_bs.head(36)"
      ],
      "execution_count": 0,
      "outputs": []
    },
    {
      "cell_type": "markdown",
      "metadata": {
        "id": "5XwI4HtcCpo6",
        "colab_type": "text"
      },
      "source": [
        "## *Data cleaning*"
      ]
    },
    {
      "cell_type": "code",
      "metadata": {
        "id": "uE8xymX9C9IG",
        "colab_type": "code",
        "colab": {}
      },
      "source": [
        "#datetime information\n",
        "# copy bs dataframe into df_india dataframe\n",
        "\n",
        "df_India=df_bs.copy()\n",
        "#set datatime\n",
        "now = datetime.now()\n",
        "df_India['Date']=now.strftime(\"%m/%d/%y\")\n",
        "df_India['Date']=pd.to_datetime(df_India['Date'], format='%m/%d/%y')\n",
        "#df_India.head(36)\n"
      ],
      "execution_count": 0,
      "outputs": []
    },
    {
      "cell_type": "code",
      "metadata": {
        "id": "ie8Blw3Mmp0r",
        "colab_type": "code",
        "colab": {}
      },
      "source": [
        "lat={'Andaman and Nicobar Islands':11.66702557,'Andhra Pradesh':14.7504291,'Arunachal Pradesh':27.10039878,'Assam':26.7499809,'Bihar':25.78541445,'Chandigarh':30.71999697,'Chhattisgarh':22.09042035,\n",
        "     'Dadar Nagar Haveli':20.26657819,'Delhi':28.6699929,'Goa':15.491997,'Haryana':28.45000633,'Himachal Pradesh':31.10002545,'Jammu and Kashmir':34.29995933,'Jharkhand':23.80039349,\n",
        "     'Karnataka':12.57038129,'Kerala':8.900372741,'Lakshadweep':10.56257331,'Madhya Pradesh':21.30039105,'Maharashtra':19.25023195,'Manipur':24.79997072,'Meghalaya':25.57049217,'Mizoram':23.71039899,\n",
        "     'Nagaland':25.6669979,'Odisha':19.82042971,'Puducherry':11.93499371,'Punjab':31.51997398,'Rajasthan':26.44999921,'Sikkim':27.3333303,'Tamil Nadu':12.92038576,'Tripura':23.83540428,\n",
        "     'Uttar Pradesh':27.59998069,'Uttaranchal':30.32040895,'West Bengal':22.58039044,'Gujarat':22.258652,'Ladakh':40.724579,'Telengana':18.112436,'Uttarakhand':30.066753}\n",
        "\n",
        "long={'Andaman and Nicobar Islands':92.73598262,'Andhra Pradesh':78.57002559,'Arunachal Pradesh':93.61660071,'Assam':94.21666744,'Bihar':87.4799727,'Chandigarh':76.78000565,'Chhattisgarh':82.15998734,\n",
        "     'Dadar Nagar Haveli':73.0166178,'Delhi':77.23000403,'Goa':73.81800065,'Haryana':77.01999101,'Himachal Pradesh':77.16659704,'Jammu and Kashmir':74.46665849,'Jharkhand':86.41998572,\n",
        "     'Karnataka':76.91999711,'Kerala':76.56999263,'Lakshadweep':72.63686717,'Madhya Pradesh':76.13001949,'Maharashtra':73.16017493,'Manipur':93.95001705,'Meghalaya':\t91.8800142,'Mizoram':92.72001461,\n",
        "     'Nagaland':94.11657019,'Odisha':85.90001746,'Puducherry':79.83000037,'Punjab':75.98000281,'Rajasthan':74.63998124,'Sikkim':88.6166475,'Tamil Nadu':79.15004187,'Tripura':91.27999914,\n",
        "     'Uttar Pradesh':78.05000565,'Uttaranchal':78.05000565,'West Bengal':88.32994665,'Gujarat':71.192383,'Ladakh':-73.997147,'Telengana':79.019302,'Uttarakhand':79.019302}\n",
        "\n",
        "df_India['Latitude']=df_India['Name of State / UT'].map(lat)\n",
        "\n",
        "df_India['Longitude']=df_India['Name of State / UT'].map(long)\n",
        "\n",
        "#df_India.head(36)"
      ],
      "execution_count": 0,
      "outputs": []
    },
    {
      "cell_type": "code",
      "metadata": {
        "id": "unmiuJsq8GnZ",
        "colab_type": "code",
        "colab": {}
      },
      "source": [
        "\n",
        "\n",
        "df_India=df_India.rename(columns={'Cured/Discharged/Migrated':'Cured',\n",
        "                                  'Cured/Discharged/Migrated*':'Cured',\n",
        "                                  'Active Cases*':'total_cases',\n",
        "                                  'Total Confirmed cases *':'Confirmed',\n",
        "                                  'Total Confirmed cases* ':'Confirmed',\n",
        "                                  'Total Confirmed cases ':'Confirmed',\n",
        "                                  'Total Confirmed cases*':'Confirmed'})\n",
        "                                  \n",
        "\n",
        "df_India=df_India.rename(columns={'Cured/Discharged':'Cured'})\n",
        "df_India=df_India.rename(columns={'Name of State / UT':'State/UnionTerritory'})\n",
        "df_India=df_India.rename(columns=lambda x: re.sub('Total Confirmed cases \\(Including.* foregin Nationals\\)','Total Confirmed cases',x))\n",
        "\n",
        "df_India=df_India.rename(columns={'Deaths( more then 70% cases due to comorbidities )':'Deaths',\n",
        "                                  'Deaths**':'Deaths'})"
      ],
      "execution_count": 0,
      "outputs": []
    },
    {
      "cell_type": "code",
      "metadata": {
        "id": "hT9JBBXDBtqe",
        "colab_type": "code",
        "colab": {}
      },
      "source": [
        "df_India['State/UnionTerritory'].unique()"
      ],
      "execution_count": 0,
      "outputs": []
    },
    {
      "cell_type": "code",
      "metadata": {
        "id": "0--hmeVYCE02",
        "colab_type": "code",
        "colab": {}
      },
      "source": [
        "df_India.isna().sum()"
      ],
      "execution_count": 0,
      "outputs": []
    },
    {
      "cell_type": "code",
      "metadata": {
        "id": "VKpSkEA8C1Uo",
        "colab_type": "code",
        "colab": {}
      },
      "source": [
        "df_India.nunique()"
      ],
      "execution_count": 0,
      "outputs": []
    },
    {
      "cell_type": "markdown",
      "metadata": {
        "id": "o_hvaml9DVTw",
        "colab_type": "text"
      },
      "source": [
        "# save data"
      ]
    },
    {
      "cell_type": "code",
      "metadata": {
        "id": "jU03dm0hDZbT",
        "colab_type": "code",
        "colab": {}
      },
      "source": [
        "file_name=now.strftime('%y_%m_%d')+' - COVID_19_India.csv'\n",
        "#location for savinf the file\n",
        "file_loc='/content/'\n",
        "\n",
        "\n",
        "df_India.to_csv(file_loc + file_name, index= False)\n",
        "df_India.head(36)"
      ],
      "execution_count": 0,
      "outputs": []
    },
    {
      "cell_type": "code",
      "metadata": {
        "id": "8dNPw0KFFLIS",
        "colab_type": "code",
        "colab": {}
      },
      "source": [
        "df_India['Date']=pd.to_datetime(df_India['Date'])"
      ],
      "execution_count": 0,
      "outputs": []
    },
    {
      "cell_type": "code",
      "metadata": {
        "id": "k2L-Kg0-F0sP",
        "colab_type": "code",
        "colab": {}
      },
      "source": [
        "df_India['State/UnionTerritory'].replace('Chattisgarh','Chhattisgarh',inplace=True)\n",
        "df_India['State/UnionTerritory'].replace('Pondicherry','Puducherry',inplace=True)"
      ],
      "execution_count": 0,
      "outputs": []
    },
    {
      "cell_type": "markdown",
      "metadata": {
        "id": "qVNloN3ZHHzi",
        "colab_type": "text"
      },
      "source": [
        "Final Dataframe"
      ]
    },
    {
      "cell_type": "code",
      "metadata": {
        "id": "7irE_DQlHMPt",
        "colab_type": "code",
        "colab": {}
      },
      "source": [
        "df_India.head(36)"
      ],
      "execution_count": 0,
      "outputs": []
    },
    {
      "cell_type": "code",
      "metadata": {
        "id": "45kj_jLzHYMV",
        "colab_type": "code",
        "colab": {}
      },
      "source": [
        "df_India.info()"
      ],
      "execution_count": 0,
      "outputs": []
    },
    {
      "cell_type": "markdown",
      "metadata": {
        "id": "iEmu2UBeIav1",
        "colab_type": "text"
      },
      "source": [
        "save final dataframe\n"
      ]
    },
    {
      "cell_type": "code",
      "metadata": {
        "id": "HXFD669lIfs9",
        "colab_type": "code",
        "colab": {}
      },
      "source": [
        "file_name=now.strftime('%y_%m_%d')+' - COVID-19_India_preprocessed.csv'\n",
        "#location for savinf the file\n",
        "file_loc='/content/'\n",
        "\n",
        "\n",
        "df_India.to_csv(file_loc + file_name, index= False)\n",
        "df_India.head(36)\n",
        "\n",
        "\n"
      ],
      "execution_count": 0,
      "outputs": []
    },
    {
      "cell_type": "code",
      "metadata": {
        "id": "94CcEu9xKQ-v",
        "colab_type": "code",
        "colab": {}
      },
      "source": [
        "df = pd.read_csv('/content/20_05_31 - COVID-19_India_preprocessed.csv')\n",
        "df_India= df.copy()\n",
        "df"
      ],
      "execution_count": 0,
      "outputs": []
    },
    {
      "cell_type": "markdown",
      "metadata": {
        "id": "GB9lmSF9Nos7",
        "colab_type": "text"
      },
      "source": [
        "# Analysing COVID-19 cases in India"
      ]
    },
    {
      "cell_type": "code",
      "metadata": {
        "id": "mg3Nr1GFNxMa",
        "colab_type": "code",
        "colab": {}
      },
      "source": [
        "total_cases=df['Confirmed'].sum()\n",
        "print(\"total no of confirmed cases of india till date(31th May ,2020):\",total_cases)"
      ],
      "execution_count": 0,
      "outputs": []
    },
    {
      "cell_type": "code",
      "metadata": {
        "id": "INlt8-ybO0hb",
        "colab_type": "code",
        "colab": {}
      },
      "source": [
        "#droping\n",
        "df_temp=df.drop(['Latitude','Longitude','Date'],axis=1) \n",
        "#highlite dataframe\n",
        "df_temp.style.background_gradient(cmap='Reds')"
      ],
      "execution_count": 0,
      "outputs": []
    },
    {
      "cell_type": "code",
      "metadata": {
        "id": "fxMNpDRyQVvF",
        "colab_type": "code",
        "colab": {}
      },
      "source": [
        "today=now.strftime('%y_%m_%d')\n",
        "total_cured=df['Cured'].sum()\n",
        "print(\"Total people who where cured\"+today+\" are :\",total_cured)\n",
        "total_cases=df['Confirmed'].sum()\n",
        "print(\"Total people who where decetated COVID-19 as of \"+today+\" are :\",total_cases)\n",
        "total_death=df['Deaths'].sum()\n",
        "print(\"Total people who died COVID-19 as of\"+today+\" are :\",total_death)\n",
        "total_active=total_cases-total_cured-total_death\n",
        "print(\"Total active COVID-19 cases as of\"+today+\" are :\",total_active)\n",
        "\n"
      ],
      "execution_count": 0,
      "outputs": []
    },
    {
      "cell_type": "code",
      "metadata": {
        "id": "2c8-h3E0Tbeg",
        "colab_type": "code",
        "colab": {}
      },
      "source": [
        "df['Total_Active']=df['Confirmed']-(df['Deaths']-df['Cured'])\n",
        "total_active=df['Total_Active'].sum()\n",
        "print(\"Total numbers of COVID_19 cases across India :\",total_active)\n",
        "Tot_cases=df.groupby('State/UnionTerritory')['Total_Active'].sum().sort_values(ascending=False).to_frame()\n",
        "Tot_cases.style.background_gradient(cmap='Reds')"
      ],
      "execution_count": 0,
      "outputs": []
    },
    {
      "cell_type": "code",
      "metadata": {
        "id": "qZOeKkAYVknD",
        "colab_type": "code",
        "colab": {}
      },
      "source": [
        "#state cases\n",
        "import numpy as np\n",
        "\n",
        "state_cases=df_India.groupby('State/UnionTerritory')['Confirmed','Deaths','Cured'].max().reset_index()\n",
        "\n",
        "state_cases['Active']=state_cases['Confirmed']-(state_cases['Deaths']+state_cases['Cured'])\n",
        "state_cases['Death Rate(pre 100)'] = np.round(100* state_cases['Deaths']/state_cases['Confirmed'],2)\n",
        "state_cases['Cure Rate(pre 100)'] = np.round(100* state_cases['Cured']/state_cases['Confirmed'],2)\n",
        "\n",
        "state_cases.sort_values('Confirmed',ascending=False).fillna(0).style.background_gradient(cmap='Blues',subset=['Confirmed'])\\\n",
        "                                                                    .background_gradient(cmap='Blues',subset=['Deaths'])\\\n",
        "                                                                    .background_gradient(cmap='Blues',subset=['Cured'])\\\n",
        "                                                                    .background_gradient(cmap='Blues',subset=['Active'])\\\n",
        "                                                                    .background_gradient(cmap='Blues',subset=['Death Rate(pre 100)'])\\\n",
        "                                                                    .background_gradient(cmap='Blues',subset=['Cure Rate(pre 100)'])                                                                  \n",
        "                                                                    \n"
      ],
      "execution_count": 0,
      "outputs": []
    },
    {
      "cell_type": "markdown",
      "metadata": {
        "id": "qWI5qg11XVOw",
        "colab_type": "text"
      },
      "source": [
        "add driver file\n"
      ]
    },
    {
      "cell_type": "code",
      "metadata": {
        "id": "HUnVpoksXZ3t",
        "colab_type": "code",
        "colab": {}
      },
      "source": [
        "\n",
        "india_covid_19 = pd.read_csv('/content/drive/My Drive/covid_19_india.csv')\n",
        "hospital_beds = pd.read_csv('/content/drive/My Drive/HospitalBedsIndia.csv')\n",
        "individual_details = pd.read_csv('/content/drive/My Drive/IndividualDetails.csv')\n",
        "ICMR_details = pd.read_csv('/content/drive/My Drive/ICMRTestingDetails.csv')\n",
        "ICMR_labs = pd.read_csv('/content/drive/My Drive/ICMRTestingLabs.csv')\n",
        "state_testing = pd.read_csv('/content/drive/My Drive/StatewiseTestingDetails.csv')\n",
        "population = pd.read_csv('/content/drive/My Drive/population_india_census2011.csv')"
      ],
      "execution_count": 0,
      "outputs": []
    },
    {
      "cell_type": "code",
      "metadata": {
        "id": "4DHcYyNuQHj0",
        "colab_type": "code",
        "colab": {}
      },
      "source": [
        "india_covid_19['Date'] = pd.to_datetime(india_covid_19['Date'],dayfirst = True)\n",
        "state_testing['Date'] = pd.to_datetime(state_testing['Date'])\n",
        "ICMR_details['DateTime'] = pd.to_datetime(ICMR_details['DateTime'],dayfirst = True)\n",
        "ICMR_details = ICMR_details.dropna(subset=['TotalSamplesTested', 'TotalPositiveCases'])"
      ],
      "execution_count": 0,
      "outputs": []
    },
    {
      "cell_type": "code",
      "metadata": {
        "id": "OIo5DAimaqta",
        "colab_type": "code",
        "colab": {}
      },
      "source": [
        "confirmed_df = pd.read_csv('https://raw.githubusercontent.com/CSSEGISandData/COVID-19/master/csse_covid_19_data/csse_covid_19_time_series/time_series_covid19_confirmed_global.csv')\n",
        "deaths_df = pd.read_csv('https://raw.githubusercontent.com/CSSEGISandData/COVID-19/master/csse_covid_19_data/csse_covid_19_time_series/time_series_covid19_deaths_global.csv')\n",
        "recovered_df = pd.read_csv('https://raw.githubusercontent.com/CSSEGISandData/COVID-19/master/csse_covid_19_data/csse_covid_19_time_series/time_series_covid19_recovered_global.csv')\n",
        "latest_data = pd.read_csv('https://raw.githubusercontent.com/CSSEGISandData/COVID-19/master/csse_covid_19_data/csse_covid_19_daily_reports/04-04-2020.csv')\n"
      ],
      "execution_count": 0,
      "outputs": []
    },
    {
      "cell_type": "code",
      "metadata": {
        "id": "_3Kvhu4wcPm_",
        "colab_type": "code",
        "colab": {}
      },
      "source": [
        ""
      ],
      "execution_count": 0,
      "outputs": []
    },
    {
      "cell_type": "code",
      "metadata": {
        "id": "NdxqDledcLKW",
        "colab_type": "code",
        "colab": {}
      },
      "source": [
        "dates = list(confirmed_df.columns[4:])\n",
        "dates = list(pd.to_datetime(dates))\n",
        "dates_india = dates[8:]"
      ],
      "execution_count": 0,
      "outputs": []
    },
    {
      "cell_type": "code",
      "metadata": {
        "id": "xwHb6y-6dI7G",
        "colab_type": "code",
        "colab": {}
      },
      "source": [
        "tes = list(pd.to_datetime(dates))\n",
        "dates_india = dates[8:]\n",
        "df1 = confirmed_df.groupby('Country/Region').sum().reset_index()\n",
        "df2 = deaths_df.groupby('Country/Region').sum().reset_index()\n",
        "df3 = recovered_df.groupby('Country/Region').sum().reset_index()\n",
        "\n",
        "k = df1[df1['Country/Region']=='India'].loc[:,'1/30/20':]\n",
        "india_confirmed = k.values.tolist()[0] \n",
        "\n",
        "k = df2[df2['Country/Region']=='India'].loc[:,'1/30/20':]\n",
        "india_deaths = k.values.tolist()[0] \n",
        "\n",
        "k = df3[df3['Country/Region']=='India'].loc[:,'1/30/20':]\n",
        "india_recovered = k.values.tolist()[0] \n",
        "\n",
        "plt.figure(figsize= (15,10))\n",
        "plt.xticks(rotation = 90 ,fontsize = 11)\n",
        "plt.yticks(fontsize = 10)\n",
        "plt.xlabel(\"Dates\",fontsize = 20)\n",
        "plt.ylabel('Total cases',fontsize = 20)\n",
        "plt.title(\"Total Confirmed, Active, Death in India\" , fontsize = 20)\n",
        "\n",
        "ax1 = plt.plot_date(y= india_confirmed,x= dates_india,label = 'Confirmed',linestyle ='-',color = 'b')\n",
        "ax2 = plt.plot_date(y= india_recovered,x= dates_india,label = 'Recovered',linestyle ='-',color = 'g')\n",
        "ax3 = plt.plot_date(y= india_deaths,x= dates_india,label = 'Death',linestyle ='-',color = 'r')\n",
        "plt.legend()"
      ],
      "execution_count": 0,
      "outputs": []
    },
    {
      "cell_type": "code",
      "metadata": {
        "id": "F8xcw50JdPbY",
        "colab_type": "code",
        "colab": {}
      },
      "source": [
        "import matplotlib.dates as mdates\n",
        "ICMR_details['Percent_positive'] = round((ICMR_details['TotalPositiveCases']/ICMR_details['TotalSamplesTested'])*100,1)\n",
        "\n",
        "fig, ax1 = plt.subplots(figsize= (15,5))\n",
        "ax1.xaxis.set_major_formatter(mdates.DateFormatter('%d-%b'))\n",
        "ax1.set_ylabel('Positive Cases (% of Total Samples Tested)')\n",
        "ax1.bar(ICMR_details['DateTime'] , ICMR_details['Percent_positive'], color=\"red\",label = 'Percentage of Positive Cases')\n",
        "ax1.text(ICMR_details['DateTime'][0],4, 'Total Samples Tested as of Apr 23rd = 541789', style='italic',fontsize= 10,\n",
        "        bbox={'facecolor': 'white' ,'alpha': 0.5, 'pad': 5})\n",
        "\n",
        "ax2 = ax1.twinx()  \n",
        "ax2.xaxis.set_major_formatter(mdates.DateFormatter('%d-%b'))\n",
        "ax2.set_ylabel('Num Samples Tested')\n",
        "ax2.fill_between(ICMR_details['DateTime'],ICMR_details['TotalSamplesTested'],color = 'black',alpha = 0.5,label = 'Samples Tested');\n",
        "\n",
        "plt.legend(loc=\"upper left\")\n",
        "plt.title('Total Samples Tested')\n",
        "plt.show()\n"
      ],
      "execution_count": 0,
      "outputs": []
    },
    {
      "cell_type": "markdown",
      "metadata": {
        "id": "bY-X4eBfde8g",
        "colab_type": "text"
      },
      "source": [
        "# Testing LIVE Status"
      ]
    },
    {
      "cell_type": "code",
      "metadata": {
        "id": "Kiyx5f22dXcD",
        "colab_type": "code",
        "colab": {}
      },
      "source": [
        "import json\n",
        "# get response from the web page\n",
        "response = requests.get('https://api.covid19india.org/state_test_data.json')\n",
        "\n",
        "# get contents from the response\n",
        "content = response.content\n",
        "\n",
        "# parse the json file\n",
        "parsed = json.loads(content)\n",
        "\n",
        "# keys\n",
        "parsed.keys()"
      ],
      "execution_count": 0,
      "outputs": []
    },
    {
      "cell_type": "code",
      "metadata": {
        "id": "_07APISidnE8",
        "colab_type": "code",
        "colab": {}
      },
      "source": [
        "# save data in a dataframe\n",
        "tested = pd.DataFrame(parsed['states_tested_data'])\n",
        "\n",
        "# first few rows\n",
        "tested.tail()"
      ],
      "execution_count": 0,
      "outputs": []
    },
    {
      "cell_type": "code",
      "metadata": {
        "id": "FdJMQQE1d9jI",
        "colab_type": "code",
        "colab": {}
      },
      "source": [
        "\n",
        "# fix datatype\n",
        "tested['updatedon'] = pd.to_datetime(tested['updatedon'])"
      ],
      "execution_count": 0,
      "outputs": []
    },
    {
      "cell_type": "code",
      "metadata": {
        "id": "G6bq7O8weHpI",
        "colab_type": "code",
        "colab": {}
      },
      "source": [
        "# save file as a scv file\n",
        "tested.to_csv('updated_tests_latest_state_level.csv', index=False)\n"
      ],
      "execution_count": 0,
      "outputs": []
    },
    {
      "cell_type": "code",
      "metadata": {
        "id": "Qru39agMeKVf",
        "colab_type": "code",
        "colab": {}
      },
      "source": [
        "state_test_cases = tested.groupby(['updatedon','state'])['totaltested','populationncp2019projection','testpositivityrate',\t'testsperpositivecase',\t'testsperthousand','totalpeoplecurrentlyinquarantine'].max().reset_index()"
      ],
      "execution_count": 0,
      "outputs": []
    },
    {
      "cell_type": "code",
      "metadata": {
        "id": "APUGcJR2eaJn",
        "colab_type": "code",
        "colab": {}
      },
      "source": [
        "state_test_cases.head(36)"
      ],
      "execution_count": 0,
      "outputs": []
    },
    {
      "cell_type": "code",
      "metadata": {
        "id": "nfvCJGTtekz7",
        "colab_type": "code",
        "colab": {}
      },
      "source": [
        "state_test_cases = tested.groupby('state')['totaltested','populationncp2019projection','testpositivityrate',\t'testsperpositivecase',\t'testsperthousand','totalpeoplecurrentlyinquarantine'].max()\n",
        "state_test_cases['testpositivityrate'] = state_test_cases['testpositivityrate'].str.replace('%', '')"
      ],
      "execution_count": 0,
      "outputs": []
    },
    {
      "cell_type": "code",
      "metadata": {
        "id": "nyP446s8esP0",
        "colab_type": "code",
        "colab": {}
      },
      "source": [
        "state_test_cases = state_test_cases.apply(pd.to_numeric)"
      ],
      "execution_count": 0,
      "outputs": []
    },
    {
      "cell_type": "code",
      "metadata": {
        "id": "TT8D9BB-exv7",
        "colab_type": "code",
        "colab": {}
      },
      "source": [
        "state_test_cases.nunique()"
      ],
      "execution_count": 0,
      "outputs": []
    },
    {
      "cell_type": "code",
      "metadata": {
        "id": "AilCMQtye3xX",
        "colab_type": "code",
        "colab": {}
      },
      "source": [
        "state_test_cases.sort_values('totaltested', ascending= False).style.background_gradient(cmap='Blues',subset=[\"totaltested\"])\\\n",
        "                        .background_gradient(cmap='Blues',subset=[\"populationncp2019projection\"])\\\n",
        "                        .background_gradient(cmap='Blues',subset=[\"testpositivityrate\"])\\\n",
        "                        .background_gradient(cmap='Blues',subset=[\"testsperpositivecase\"])\\\n",
        "                        .background_gradient(cmap='Blues',subset=[\"testsperthousand\"])\\\n",
        "                        .background_gradient(cmap='Blues',subset=[\"totalpeoplecurrentlyinquarantine\"])\n",
        "                       "
      ],
      "execution_count": 0,
      "outputs": []
    },
    {
      "cell_type": "markdown",
      "metadata": {
        "id": "i-bZOmKpfK_W",
        "colab_type": "text"
      },
      "source": [
        "###Day-by-Day Confirmed Cases in Top 15 States in India"
      ]
    },
    {
      "cell_type": "code",
      "metadata": {
        "id": "CT1SOUTSfDnj",
        "colab_type": "code",
        "colab": {}
      },
      "source": [
        "all_state = list(df_India['State/UnionTerritory'].unique())\n",
        "\n",
        "latest = india_covid_19[india_covid_19['Date'] > '24-03-20']\n",
        "state_cases = latest.groupby('State/UnionTerritory')['Confirmed','Deaths','Cured'].max().reset_index()\n",
        "latest['Active'] = latest['Confirmed'] - (latest['Deaths']- latest['Cured'])\n",
        "state_cases = state_cases.sort_values('Confirmed', ascending= False).fillna(0)\n",
        "states =list(state_cases['State/UnionTerritory'][0:15])\n",
        "\n",
        "states_confirmed = {}\n",
        "states_deaths = {}\n",
        "states_recovered = {}\n",
        "states_dates = {}\n",
        "states_active={}\n",
        "\n",
        "for state in states:\n",
        "    df = latest[latest['State/UnionTerritory'] == state].reset_index()\n",
        "    k = []\n",
        "    l = []\n",
        "    m = []\n",
        "    n = []\n",
        "    for i in range(1,len(df)):\n",
        "        k.append(df['Confirmed'][i]-df['Confirmed'][i-1])\n",
        "        l.append(df['Deaths'][i]-df['Deaths'][i-1])\n",
        "        m.append(df['Cured'][i]-df['Cured'][i-1])\n",
        "        n.append(df['Active'][i]-df['Active'][i-1])\n",
        "    states_confirmed[state] = k\n",
        "    states_deaths[state] = l\n",
        "    states_recovered[state] = m\n",
        "    states_active[state] = n\n",
        "    date = list(df['Date'])\n",
        "    states_dates[state] = date[1:]\n",
        "    \n",
        "fig = plt.figure(figsize= (25,17))\n",
        "plt.suptitle('Day-by-Day Confirmed Cases in Top 15 States in India',fontsize = 20,y=1.0)\n",
        "k=0\n",
        "for i in range(1,15):\n",
        "    ax = fig.add_subplot(5,3,i)\n",
        "    ax.xaxis.set_major_formatter(mdates.DateFormatter('%d-%b'))\n",
        "    ax.bar(states_dates[states[k]],states_confirmed[states[k]],label = 'Day wise Confirmed Cases ') \n",
        "    plt.title(states[k],fontsize = 20)\n",
        "    handles, labels = ax.get_legend_handles_labels()\n",
        "    fig.legend(handles, labels, loc='upper left')\n",
        "    k=k+1\n",
        "plt.tight_layout(pad=5.0)"
      ],
      "execution_count": 0,
      "outputs": []
    },
    {
      "cell_type": "markdown",
      "metadata": {
        "id": "ZALwqHYAgYkl",
        "colab_type": "text"
      },
      "source": [
        "\n",
        "## Growth Rate in top 15 States in India"
      ]
    },
    {
      "cell_type": "code",
      "metadata": {
        "id": "hRt3_x4QgSfK",
        "colab_type": "code",
        "colab": {}
      },
      "source": [
        "def calc_growthRate(values):\n",
        "    k = []\n",
        "    for i in range(1,len(values)):\n",
        "        summ = 0\n",
        "        for j in range(i):\n",
        "            summ = summ + values[j]\n",
        "        rate = (values[i]/summ)*100\n",
        "        k.append(int(rate))\n",
        "    return k\n",
        "\n",
        "fig = plt.figure(figsize= (25,17))\n",
        "plt.suptitle('Growth Rate in Top 15 States',fontsize = 20,y=1.0)\n",
        "k=0\n",
        "for i in range(1,15):\n",
        "    ax = fig.add_subplot(5,3,i)\n",
        "    ax.xaxis.set_major_formatter(mdates.DateFormatter('%d-%b'))\n",
        "    #ax.bar(states_dates[states[k]],states_confirmed[states[k]],label = 'Day wise Confirmed Cases ') \n",
        "    growth_rate = calc_growthRate(states_confirmed[states[k]])\n",
        "    ax.plot_date(states_dates[states[k]][21:],growth_rate[20:],color = '#9370db',label = 'Growth Rate',linewidth =3,linestyle='-')  \n",
        "    plt.title(states[k],fontsize = 20)\n",
        "    handles, labels = ax.get_legend_handles_labels()\n",
        "    fig.legend(handles, labels, loc='upper left')\n",
        "    k=k+1\n",
        "plt.tight_layout(pad=3.0)"
      ],
      "execution_count": 0,
      "outputs": []
    },
    {
      "cell_type": "markdown",
      "metadata": {
        "id": "EIm0jwGKgoKL",
        "colab_type": "text"
      },
      "source": [
        "## Exploring different types of hospital beds available in India during lockdown"
      ]
    },
    {
      "cell_type": "code",
      "metadata": {
        "id": "_rOiHs3eghhN",
        "colab_type": "code",
        "colab": {}
      },
      "source": [
        "cols_object = list(hospital_beds.columns[2:8])\n",
        "\n",
        "for cols in cols_object:\n",
        "    hospital_beds[cols] = hospital_beds[cols].astype(int,errors = 'ignore')\n",
        "\n",
        "hospital_beds = hospital_beds.drop('Sno',axis=1)\n",
        "\n",
        "\n",
        "hospital_beds.head(36)"
      ],
      "execution_count": 0,
      "outputs": []
    },
    {
      "cell_type": "markdown",
      "metadata": {
        "id": "IfXR3VR_g62T",
        "colab_type": "text"
      },
      "source": [
        "## Exploring top 10 States in each health facilities"
      ]
    },
    {
      "cell_type": "code",
      "metadata": {
        "id": "cKd6Mla2g89p",
        "colab_type": "code",
        "colab": {}
      },
      "source": [
        "#ERROR\n",
        "top_10_primary = hospital_beds.nlargest(10,'NumPrimaryHealthCenters_HMIS')\n",
        "top_10_community = hospital_beds.nlargest(10,'NumCommunityHealthCenters_HMIS')\n",
        "top_10_district_hospitals = hospital_beds.nlargest(10,'NumDistrictHospitals_HMIS')\n",
        "top_10_public_facility = hospital_beds.nlargest(10,'TotalPublicHealthFacilities_HMIS')\n",
        "top_10_public_beds = hospital_beds.nlargest(10,'NumPublicBeds_HMIS')\n",
        "\n",
        "plt.figure(figsize=(15,10))\n",
        "plt.suptitle('Top 10 States in each Health Facility',fontsize=20)\n",
        "plt.subplot(221)\n",
        "plt.title('Primary Health Centers')\n",
        "plt.barh(top_10_primary['State/UT'],top_10_primary['NumPrimaryHealthCenters_HMIS'],color ='#87479d');\n",
        "\n",
        "plt.subplot(222)\n",
        "plt.title('Community Health Centers')\n",
        "plt.barh(top_10_community['State/UT'],top_10_community['NumCommunityHealthCenters_HMIS'],color = '#9370db');\n",
        "\n",
        "plt.subplot(224)\n",
        "plt.title('Total Public Health Facilities')\n",
        "plt.barh(top_10_community['State/UT'],top_10_public_facility['TotalPublicHealthFacilities_HMIS'],color='#9370db');\n",
        "\n",
        "plt.subplot(223)\n",
        "plt.title('District Hospitals')\n",
        "plt.barh(top_10_community['State/UT'],top_10_district_hospitals['NumDistrictHospitals_HMIS'],color = '#87479d');"
      ],
      "execution_count": 0,
      "outputs": []
    },
    {
      "cell_type": "markdown",
      "metadata": {
        "id": "DwHsJYvhiFNp",
        "colab_type": "text"
      },
      "source": [
        "## Exploring Urban and Rural Healthcare Facility"
      ]
    },
    {
      "cell_type": "code",
      "metadata": {
        "id": "WPZX1soGiFkK",
        "colab_type": "code",
        "colab": {}
      },
      "source": [
        "top_rural_hos = hospital_beds.nlargest(10,'NumRuralHospitals_NHP18')\n",
        "top_rural_beds = hospital_beds.nlargest(10,'NumRuralBeds_NHP18')\n",
        "top_urban_hos = hospital_beds.nlargest(10,'NumUrbanHospitals_NHP18')\n",
        "top_urban_beds = hospital_beds.nlargest(10,'NumUrbanBeds_NHP18')\n",
        "\n",
        "plt.figure(figsize=(15,10))\n",
        "plt.suptitle('Urban and Rural Health Facility',fontsize=20)\n",
        "plt.subplot(221)\n",
        "plt.title('Rural Hospitals')\n",
        "plt.barh(top_rural_hos['State/UT'],top_rural_hos['NumRuralHospitals_NHP18'],color = '#87479d');\n",
        "\n",
        "plt.subplot(222)\n",
        "plt.title('Urban Hospitals')\n",
        "plt.barh(top_urban_hos['State/UT'],top_urban_hos['NumUrbanHospitals_NHP18'],color = '#9370db');\n",
        "\n",
        "plt.subplot(223)\n",
        "plt.title('Rural Beds')\n",
        "plt.barh(top_rural_beds['State/UT'],top_rural_beds['NumRuralBeds_NHP18'],color = '#87479d');\n",
        "\n",
        "plt.subplot(224)\n",
        "plt.title('Urban Beds')\n",
        "plt.barh(top_urban_beds['State/UT'],top_urban_beds['NumUrbanBeds_NHP18'],color = '#9370db');"
      ],
      "execution_count": 0,
      "outputs": []
    },
    {
      "cell_type": "markdown",
      "metadata": {
        "id": "hN-DQWI2jJGI",
        "colab_type": "text"
      },
      "source": [
        "\n",
        "## Exploring Statewise Testing Insights"
      ]
    },
    {
      "cell_type": "code",
      "metadata": {
        "id": "23bCvtPxjD7W",
        "colab_type": "code",
        "colab": {}
      },
      "source": [
        "state_test = pd.pivot_table(state_testing, values=['TotalSamples','Negative','Positive'], index='State', aggfunc='max')\n",
        "state_names = list(state_test.index)\n",
        "state_test['State'] = state_names\n",
        "\n",
        "plt.figure(figsize=(25,20))\n",
        "sns.set_color_codes(\"pastel\")\n",
        "sns.barplot(x=\"TotalSamples\", y= state_names, data=state_test,label=\"Total Samples\", color = '#7370db')\n",
        "sns.barplot(x='Negative', y=state_names, data=state_test,label='Negative', color= '#af8887')\n",
        "sns.barplot(x='Positive', y=state_names, data=state_test,label='Positive', color='#6ff79d')\n",
        "plt.title('Testing statewise insight',fontsize = 20)\n",
        "plt.legend(ncol=2, loc=\"lower right\", frameon=True);"
      ],
      "execution_count": 0,
      "outputs": []
    },
    {
      "cell_type": "markdown",
      "metadata": {
        "id": "McwlVQXjjSBm",
        "colab_type": "text"
      },
      "source": [
        "## Number of ICMR Testing Centres in each state"
      ]
    },
    {
      "cell_type": "code",
      "metadata": {
        "id": "5g5vzHA6jSSk",
        "colab_type": "code",
        "colab": {}
      },
      "source": [
        "values = list(ICMR_labs['state'].value_counts())\n",
        "names = list(ICMR_labs['state'].value_counts().index)\n",
        "\n",
        "plt.figure(figsize=(15,10))\n",
        "sns.set_color_codes(\"pastel\")\n",
        "plt.title('ICMR Testing Centers in each State', fontsize = 20)\n",
        "sns.barplot(x= values, y= names,color = '#ff2345');"
      ],
      "execution_count": 0,
      "outputs": []
    },
    {
      "cell_type": "markdown",
      "metadata": {
        "id": "48KSElr9jg4Y",
        "colab_type": "text"
      },
      "source": [
        "## Let's Start with the predictions"
      ]
    },
    {
      "cell_type": "code",
      "metadata": {
        "id": "Uzjl2j6XjhJ-",
        "colab_type": "code",
        "colab": {}
      },
      "source": [
        "train = pd.read_csv('/content/drive/My Drive/train.csv')\n",
        "test = pd.read_csv('/content/drive/My Drive/test.csv')\n",
        "train['Date'] = pd.to_datetime(train['Date'])\n",
        "test['Date'] = pd.to_datetime(test['Date'])"
      ],
      "execution_count": 0,
      "outputs": []
    },
    {
      "cell_type": "code",
      "metadata": {
        "id": "m9XsO-eVj3O4",
        "colab_type": "code",
        "colab": {}
      },
      "source": [
        "!pip install Prophet"
      ],
      "execution_count": 0,
      "outputs": []
    },
    {
      "cell_type": "code",
      "metadata": {
        "id": "ffhhKQESkCK6",
        "colab_type": "code",
        "colab": {}
      },
      "source": [
        "from fbprophet import Prophet\n",
        "from fbprophet.plot import plot_plotly, add_changepoints_to_plot\n",
        "\n",
        "k = df1[df1['Country/Region']=='India'].loc[:,'1/22/20':]\n",
        "india_confirmed = k.values.tolist()[0] \n",
        "data = pd.DataFrame(columns = ['ds','y'])\n",
        "data['ds'] = dates\n",
        "data['y'] = india_confirmed"
      ],
      "execution_count": 0,
      "outputs": []
    },
    {
      "cell_type": "code",
      "metadata": {
        "id": "vyIXVYBDkHN1",
        "colab_type": "code",
        "colab": {}
      },
      "source": [
        "confirmed.columns = ['ds','y']\n",
        "#confirmed['ds'] = confirmed['ds'].dt.date\n",
        "confirmed['ds'] = pd.to_datetime(confirmed['ds'])"
      ],
      "execution_count": 0,
      "outputs": []
    },
    {
      "cell_type": "markdown",
      "metadata": {
        "id": "Nr0hZXZDk1aB",
        "colab_type": "text"
      },
      "source": [
        "## Forecasting Confirmed NCOVID-19 Cases Worldwide with Prophet (Base model)"
      ]
    },
    {
      "cell_type": "code",
      "metadata": {
        "id": "Sy6H-vdck1z3",
        "colab_type": "code",
        "colab": {}
      },
      "source": [
        "prop = Prophet(interval_width=0.95)\n",
        "prop.fit(data)\n",
        "future = prop.make_future_dataframe(periods=15)\n",
        "future.tail(15)"
      ],
      "execution_count": 0,
      "outputs": []
    },
    {
      "cell_type": "markdown",
      "metadata": {
        "id": "VvDLvGAwk_p4",
        "colab_type": "text"
      },
      "source": [
        ""
      ]
    },
    {
      "cell_type": "code",
      "metadata": {
        "id": "lCgeDTW8k_5C",
        "colab_type": "code",
        "colab": {}
      },
      "source": [
        "#predicting the future with date, and upper and lower limit of y value\n",
        "forecast = prop.predict(future)\n",
        "forecast[['ds', 'yhat', 'yhat_lower', 'yhat_upper']].tail()"
      ],
      "execution_count": 0,
      "outputs": []
    },
    {
      "cell_type": "code",
      "metadata": {
        "id": "-g7B0rnrlICd",
        "colab_type": "code",
        "colab": {}
      },
      "source": [
        "confirmed_forecast_plot = prop.plot(forecast)"
      ],
      "execution_count": 0,
      "outputs": []
    },
    {
      "cell_type": "code",
      "metadata": {
        "id": "TrURDirKlNw9",
        "colab_type": "code",
        "colab": {}
      },
      "source": [
        "confirmed_forecast_plot =prop.plot_components(forecast)"
      ],
      "execution_count": 0,
      "outputs": []
    },
    {
      "cell_type": "markdown",
      "metadata": {
        "id": "PtB8qg0mlcOF",
        "colab_type": "text"
      },
      "source": [
        "## ARIMA Model"
      ]
    },
    {
      "cell_type": "code",
      "metadata": {
        "id": "3lRWkVB0lV4P",
        "colab_type": "code",
        "colab": {}
      },
      "source": [
        "from statsmodels.tsa.arima_model import ARIMA\n",
        "\n",
        "from datetime import timedelta \n",
        "\n",
        "arima = ARIMA(data['y'], order=(5, 1, 0))\n",
        "arima = arima.fit(trend='c', full_output=True, disp=True)\n",
        "forecast = arima.forecast(steps= 30)\n",
        "pred = list(forecast[0])\n",
        "\n",
        "start_date = data['ds'].max()\n",
        "prediction_dates = []\n",
        "for i in range(30):\n",
        "    date = start_date + timedelta(days=1)\n",
        "    prediction_dates.append(date)\n",
        "    start_date = date\n",
        "plt.figure(figsize= (15,10))\n",
        "plt.xlabel(\"Dates\",fontsize = 20)\n",
        "plt.ylabel('Total cases',fontsize = 20)\n",
        "plt.title(\"Predicted Values for the next 15 Days\" , fontsize = 20)\n",
        "\n",
        "plt.plot_date(y= pred,x= prediction_dates,linestyle ='dashed',color = '#ff9999',label = 'Predicted');\n",
        "plt.plot_date(y=data['y'],x=data['ds'],linestyle = '-',color = 'blue',label = 'Actual');\n",
        "plt.legend();"
      ],
      "execution_count": 0,
      "outputs": []
    },
    {
      "cell_type": "markdown",
      "metadata": {
        "id": "hC0gyP8wlqaT",
        "colab_type": "text"
      },
      "source": [
        "## Visualising the spread geographically"
      ]
    },
    {
      "cell_type": "code",
      "metadata": {
        "id": "qfz7iKamlhc7",
        "colab_type": "code",
        "colab": {}
      },
      "source": [
        "# Learn how to use folium to create a zoomable map\n",
        "map = folium.Map(location=[20, 70], zoom_start=4,tiles='Stamenterrain')\n",
        "\n",
        "for lat, lon, value, name in zip(df_India['Latitude'], df_India['Longitude'], df_India['Confirmed'], df_India['State/UnionTerritory']):\n",
        "    folium.CircleMarker([lat, lon], radius=value*0.002, popup = ('<strong>State</strong>: ' + str(name).capitalize() + '<br>''<strong>Total Cases</strong>: ' + str(value) + '<br>'),color='red',fill_color='red',fill_opacity=0.3 ).add_to(map)\n",
        "map"
      ],
      "execution_count": 0,
      "outputs": []
    },
    {
      "cell_type": "markdown",
      "metadata": {
        "id": "iYppym1GmRda",
        "colab_type": "text"
      },
      "source": [
        "### Exploring World wide data"
      ]
    },
    {
      "cell_type": "markdown",
      "metadata": {
        "id": "KEEacARDmUR0",
        "colab_type": "text"
      },
      "source": [
        "## Visualizing: Worldwide NCOVID-19 cases"
      ]
    },
    {
      "cell_type": "code",
      "metadata": {
        "id": "JllsGHQpmMhd",
        "colab_type": "code",
        "colab": {}
      },
      "source": [
        "world_confirmed = confirmed_df[confirmed_df.columns[-1:]].sum()\n",
        "world_recovered = recovered_df[recovered_df.columns[-1:]].sum()\n",
        "world_deaths = deaths_df[deaths_df.columns[-1:]].sum()\n",
        "world_active = world_confirmed - (world_recovered - world_deaths)\n",
        "\n",
        "labels = ['Active','Recovered','Deceased']\n",
        "sizes = [world_active,world_recovered,world_deaths]\n",
        "color= ['blue','green','red']\n",
        "explode = []\n",
        "\n",
        "for i in labels:\n",
        "    explode.append(0.05)\n",
        "    \n",
        "plt.figure(figsize= (15,10))\n",
        "plt.pie(sizes, labels=labels, autopct='%1.1f%%', startangle=9, explode = explode,colors = color)\n",
        "centre_circle = plt.Circle((0,0),0.70,fc='white')\n",
        "\n",
        "fig = plt.gcf()\n",
        "fig.gca().add_artist(centre_circle)\n",
        "plt.title('World COVID-19 Cases',fontsize = 20)\n",
        "plt.axis('equal')  \n",
        "plt.tight_layout()"
      ],
      "execution_count": 0,
      "outputs": []
    },
    {
      "cell_type": "markdown",
      "metadata": {
        "id": "tx8VMyVhmjzE",
        "colab_type": "text"
      },
      "source": [
        ""
      ]
    },
    {
      "cell_type": "code",
      "metadata": {
        "id": "e2l_ZnhlmkBc",
        "colab_type": "code",
        "colab": {}
      },
      "source": [
        "dates"
      ],
      "execution_count": 0,
      "outputs": []
    },
    {
      "cell_type": "code",
      "metadata": {
        "id": "RX5aG_bDmr-3",
        "colab_type": "code",
        "colab": {}
      },
      "source": [
        "hotspots = ['China','Germany','Iran','Italy','Spain','US','Korea, South','France','Turkey','United Kingdom','India']\n",
        "dates = list(confirmed_df.columns[4:])\n",
        "dates = list(pd.to_datetime(dates))\n",
        "dates_india = dates[8:]\n",
        "\n",
        "df1 = confirmed_df.groupby('Country/Region').sum().reset_index()\n",
        "df2 = deaths_df.groupby('Country/Region').sum().reset_index()\n",
        "df3 = recovered_df.groupby('Country/Region').sum().reset_index()\n",
        "\n",
        "global_confirmed = {}\n",
        "global_deaths = {}\n",
        "global_recovered = {}\n",
        "global_active= {}\n",
        "\n",
        "for country in hotspots:\n",
        "    k =df1[df1['Country/Region'] == country].loc[:,'1/30/20':]\n",
        "    global_confirmed[country] = k.values.tolist()[0]\n",
        "\n",
        "    k =df2[df2['Country/Region'] == country].loc[:,'1/30/20':]\n",
        "    global_deaths[country] = k.values.tolist()[0]\n",
        "\n",
        "    k =df3[df3['Country/Region'] == country].loc[:,'1/30/20':]\n",
        "    global_recovered[country] = k.values.tolist()[0]\n",
        "    \n",
        "# for country in hotspots:\n",
        "#     k = list(map(int.__sub__, global_confirmed[country], global_deaths[country]))\n",
        "#     global_active[country] = list(map(int.__sub__, k, global_recovered[country]))\n",
        "    \n",
        "fig = plt.figure(figsize= (15,25))\n",
        "plt.suptitle('Active, Recovered, Deaths in Hotspot Countries and India as of '+ today,fontsize = 20,y=1.0)\n",
        "#plt.legend()\n",
        "k=0\n",
        "for i in range(1,12):\n",
        "    ax = fig.add_subplot(6,2,i)\n",
        "    ax.xaxis.set_major_formatter(mdates.DateFormatter('%d-%b'))\n",
        "    # ax.bar(dates_india,global_active[hotspots[k]],color = 'green',alpha = 0.6,label = 'Active');\n",
        "    ax.bar(dates_india,global_confirmed[hotspots[k]],color='blue',label = 'Confirmed');\n",
        "    ax.bar(dates_india,global_recovered[hotspots[k]],color='grey',label = 'Recovered');\n",
        "    ax.bar(dates_india,global_deaths[hotspots[k]],color='red',label = 'Death');   \n",
        "    plt.title(hotspots[k])\n",
        "    handles, labels = ax.get_legend_handles_labels()\n",
        "    fig.legend(handles, labels, loc='upper left')\n",
        "    k=k+1\n",
        "\n",
        "plt.tight_layout(pad=3.0)"
      ],
      "execution_count": 0,
      "outputs": []
    },
    {
      "cell_type": "code",
      "metadata": {
        "id": "DX3M_5qDm34c",
        "colab_type": "code",
        "colab": {}
      },
      "source": [
        "countries = ['China','Germany','Iran','Italy','Spain','US','Korea, South','France','United Kingdom','India']\n",
        "\n",
        "global_confirmed = []\n",
        "global_recovered = []\n",
        "global_deaths = []\n",
        "\n",
        "for country in countries:\n",
        "    k =df1[df1['Country/Region'] == country].loc[:,'1/30/20':]\n",
        "    global_confirmed.append(k.values.tolist()[0]) \n",
        "\n",
        "    k =df2[df2['Country/Region'] == country].loc[:,'1/30/20':]\n",
        "    global_deaths.append(k.values.tolist()[0]) \n",
        "\n",
        "    k =df3[df3['Country/Region'] == country].loc[:,'1/30/20':]\n",
        "    global_deaths.append(k.values.tolist()[0])  "
      ],
      "execution_count": 0,
      "outputs": []
    },
    {
      "cell_type": "code",
      "metadata": {
        "id": "7woM8_9Em_YR",
        "colab_type": "code",
        "colab": {}
      },
      "source": [
        "plt.figure(figsize= (15,10))\n",
        "plt.xticks(rotation = 90 ,fontsize = 11)\n",
        "plt.yticks(fontsize = 10)\n",
        "plt.xlabel(\"Dates\",fontsize = 20)\n",
        "plt.ylabel('Total cases',fontsize = 20)\n",
        "plt.title(\"Comparison with other Countries\" , fontsize = 20)\n",
        "\n",
        "for i in range(len(countries)):\n",
        "    plt.plot_date(y= global_confirmed[i],x= dates_india,label = countries[i])\n",
        "plt.legend();"
      ],
      "execution_count": 0,
      "outputs": []
    }
  ]
}